{
 "cells": [
  {
   "cell_type": "markdown",
   "metadata": {},
   "source": [
    "# Analisis Data Mobil Bekas di Arab Saudi"
   ]
  },
  {
   "cell_type": "markdown",
   "metadata": {},
   "source": [
    "## Pemahaman Bisnis"
   ]
  },
  {
   "cell_type": "markdown",
   "metadata": {},
   "source": [
    "### Konteks\n",
    "\n",
    "Pasar mobil bekas di Arab Saudi adalah sektor penting dalam industri otomotif negara tersebut. Banyak pembeli dan penjual menghadapi kesulitan dalam menentukan harga yang wajar untuk kendaraan bekas karena berbagai faktor yang mempengaruhi nilai mobil. Hal ini menyebabkan inefisiensi dalam pasar, yang berpotensi mengakibatkan kerugian finansial bagi penjual dan ketidakpercayaan di antara pembeli."
   ]
  },
  {
   "cell_type": "markdown",
   "metadata": {},
   "source": [
    "### Pernyataan Masalah\n",
    "\n",
    "Dealer mobil bekas dan penjual individu di Arab Saudi menghadapi tantangan dalam menentukan harga mobil bekas secara akurat. Hal ini mengakibatkan:\n",
    "1. Potensi kehilangan pendapatan karena harga yang terlalu rendah\n",
    "2. Waktu penjualan yang lebih lama karena harga yang terlalu tinggi\n",
    "3. Berkurangnya kepercayaan dan kepuasan pelanggan"
   ]
  },
  {
   "cell_type": "markdown",
   "metadata": {},
   "source": [
    "### Stakeholder\n",
    "\n",
    "- Dealer mobil bekas\n",
    "- Penjual mobil individu\n",
    "- Calon pembeli mobil\n",
    "- Platform pasar mobil online (misalnya, [syarah.com](https://syarah.com/]))"
   ]
  },
  {
   "cell_type": "markdown",
   "metadata": {},
   "source": [
    "### Goal\n",
    "\n",
    "1. Mengembangkan model machine learning untuk memprediksi harga mobil bekas dengan margin kesalahan kurang dari 10%\n",
    "2. Mengidentifikasi faktor-faktor kunci yang mempengaruhi harga mobil bekas di Arab Saudi\n",
    "3. Menyediakan alat bagi stakeholder untuk memperkirakan nilai pasar yang wajar untuk mobil bekas"
   ]
  },
  {
   "cell_type": "markdown",
   "metadata": {},
   "source": [
    "### Pendekatan Analitis\n",
    "\n",
    "Kita akan menggunakan model regresi untuk memprediksi harga mobil bekas berdasarkan berbagai fitur seperti merek, model, tahun, jarak tempuh, dan atribut lainnya. Proyek ini akan melibatkan:\n",
    "1. Pembersihan data dan preprocessing\n",
    "2. Analisis eksploratori data untuk memahami hubungan antar fitur\n",
    "3. Rekayasa fitur untuk menciptakan input yang relevan bagi model\n",
    "4. Pemilihan dan pelatihan model\n",
    "5. Evaluasi dan optimisasi model"
   ]
  },
  {
   "cell_type": "markdown",
   "metadata": {},
   "source": [
    "### Metrik Evaluasi\n",
    "\n",
    "Metrik utama:\n",
    "- Root Mean Squared Error (RMSE)\n",
    "- Mean Absolute Percentage Error (MAPE)\n",
    "\n",
    "Metrik sekunder:\n",
    "- R-squared (R²)\n",
    "- Mean Absolute Error (MAE)\n",
    "\n",
    "Kita akan fokus pada MAPE sebagai metrik utama karena memberikan persentase kesalahan yang mudah diinterpretasikan dalam konteks harga mobil."
   ]
  },
  {
   "cell_type": "markdown",
   "metadata": {},
   "source": [
    "### Dampak yang Diharapkan\n",
    "\n",
    "- Penentuan harga mobil bekas yang lebih akurat dan konsisten\n",
    "- Waktu penjualan yang lebih singkat bagi penjual\n",
    "- Peningkatan kepercayaan dan transparansi di pasar mobil bekas\n",
    "- Potensi peningkatan efisiensi pasar dan volume transaksi\n",
    "\n",
    "Dengan mengatasi masalah bisnis ini, kita bertujuan untuk menciptakan nilai bagi semua pemangku kepentingan di pasar mobil bekas Arab Saudi, yang mengarah pada pasar yang lebih efisien dan terpercaya."
   ]
  }
 ],
 "metadata": {
  "kernelspec": {
   "display_name": "udemy-ds-ml",
   "language": "python",
   "name": "python3"
  },
  "language_info": {
   "name": "python",
   "version": "3.12.4"
  }
 },
 "nbformat": 4,
 "nbformat_minor": 2
}
